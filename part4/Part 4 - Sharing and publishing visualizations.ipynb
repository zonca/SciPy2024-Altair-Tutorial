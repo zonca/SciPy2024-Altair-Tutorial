{
 "cells": [
  {
   "cell_type": "markdown",
   "metadata": {
    "id": "WI7OnsBrdel5"
   },
   "source": [
    "# Part 4 - Sharing and publishing visualizations\n",
    "\n",
    "- **Objective**: Learn how to share and publish your Vega-Altair visualizations.\n",
    "- **Key Topics**:\n",
    "  - Exporting charts as HTML\n",
    "  - Saving charts as static images (PNG, SVG, PDF)\n",
    "  - References for embedding charts in static documents (Quarto, Jupyter Book, LaTeX)\n",
    "  - References for creating dashboards\n",
    "\n",
    "Once you have finished work on your Vega-Altair chart, how can you share it with others?\n",
    "\n",
    "You could always use a screenshot:\n",
    "* `Command+Shift+4`\n",
    "* `Windows+Shift+S`\n",
    "\n",
    "But, there are many better options, and which option you choose will depend on your specific requirements.\n",
    "* Will the chart be shared as a static image in a paper or presentation?\n",
    "* Are there interactive components to your chart?\n",
    "* Is opening the chart in a web browser an option?\n",
    "\n",
    "References:\n",
    "* [Vega-Altair documentation](https://altair-viz.github.io/user_guide/saving_charts.html) on saving charts.\n",
    "* [Discussion on GitHub](https://github.com/vega/altair/discussions/3293) from December 2023 (some new options have been added since then).\n"
   ]
  },
  {
   "cell_type": "markdown",
   "metadata": {
    "id": "iyW7xytbczQa"
   },
   "source": [
    "## Imports\n",
    "Perform imports and create example chart for exporting."
   ]
  },
  {
   "cell_type": "code",
   "execution_count": 1,
   "metadata": {
    "colab": {
     "base_uri": "https://localhost:8080/"
    },
    "executionInfo": {
     "elapsed": 21872,
     "status": "ok",
     "timestamp": 1715446827271,
     "user": {
      "displayName": "Jon Mease",
      "userId": "14424318106531239228"
     },
     "user_tz": 240
    },
    "id": "B-W69LknyEQ0",
    "outputId": "40947f66-578d-48b7-ef93-a6ed4324c90b"
   },
   "outputs": [
    {
     "data": {
      "text/html": [
       "\n",
       "<style>\n",
       "  #altair-viz-4c218a6c58164ca2bf86a8c50cc68790.vega-embed {\n",
       "    width: 100%;\n",
       "    display: flex;\n",
       "  }\n",
       "\n",
       "  #altair-viz-4c218a6c58164ca2bf86a8c50cc68790.vega-embed details,\n",
       "  #altair-viz-4c218a6c58164ca2bf86a8c50cc68790.vega-embed details summary {\n",
       "    position: relative;\n",
       "  }\n",
       "</style>\n",
       "<div id=\"altair-viz-4c218a6c58164ca2bf86a8c50cc68790\"></div>\n",
       "<script type=\"text/javascript\">\n",
       "  var VEGA_DEBUG = (typeof VEGA_DEBUG == \"undefined\") ? {} : VEGA_DEBUG;\n",
       "  (function(spec, embedOpt){\n",
       "    let outputDiv = document.currentScript.previousElementSibling;\n",
       "    if (outputDiv.id !== \"altair-viz-4c218a6c58164ca2bf86a8c50cc68790\") {\n",
       "      outputDiv = document.getElementById(\"altair-viz-4c218a6c58164ca2bf86a8c50cc68790\");\n",
       "    }\n",
       "    const paths = {\n",
       "      \"vega\": \"https://cdn.jsdelivr.net/npm/vega@5?noext\",\n",
       "      \"vega-lib\": \"https://cdn.jsdelivr.net/npm/vega-lib?noext\",\n",
       "      \"vega-lite\": \"https://cdn.jsdelivr.net/npm/vega-lite@5.17.0?noext\",\n",
       "      \"vega-embed\": \"https://cdn.jsdelivr.net/npm/vega-embed@6?noext\",\n",
       "    };\n",
       "\n",
       "    function maybeLoadScript(lib, version) {\n",
       "      var key = `${lib.replace(\"-\", \"\")}_version`;\n",
       "      return (VEGA_DEBUG[key] == version) ?\n",
       "        Promise.resolve(paths[lib]) :\n",
       "        new Promise(function(resolve, reject) {\n",
       "          var s = document.createElement('script');\n",
       "          document.getElementsByTagName(\"head\")[0].appendChild(s);\n",
       "          s.async = true;\n",
       "          s.onload = () => {\n",
       "            VEGA_DEBUG[key] = version;\n",
       "            return resolve(paths[lib]);\n",
       "          };\n",
       "          s.onerror = () => reject(`Error loading script: ${paths[lib]}`);\n",
       "          s.src = paths[lib];\n",
       "        });\n",
       "    }\n",
       "\n",
       "    function showError(err) {\n",
       "      outputDiv.innerHTML = `<div class=\"error\" style=\"color:red;\">${err}</div>`;\n",
       "      throw err;\n",
       "    }\n",
       "\n",
       "    function displayChart(vegaEmbed) {\n",
       "      vegaEmbed(outputDiv, spec, embedOpt)\n",
       "        .catch(err => showError(`Javascript Error: ${err.message}<br>This usually means there's a typo in your chart specification. See the javascript console for the full traceback.`));\n",
       "    }\n",
       "\n",
       "    if(typeof define === \"function\" && define.amd) {\n",
       "      requirejs.config({paths});\n",
       "      require([\"vega-embed\"], displayChart, err => showError(`Error loading script: ${err.message}`));\n",
       "    } else {\n",
       "      maybeLoadScript(\"vega\", \"5\")\n",
       "        .then(() => maybeLoadScript(\"vega-lite\", \"5.17.0\"))\n",
       "        .then(() => maybeLoadScript(\"vega-embed\", \"6\"))\n",
       "        .catch(showError)\n",
       "        .then(() => displayChart(vegaEmbed));\n",
       "    }\n",
       "  })({\"config\": {\"view\": {\"continuousWidth\": 300, \"continuousHeight\": 300}}, \"data\": {\"name\": \"data-7684334a68ab74ba4c3ca7d0ceaeb461\"}, \"mark\": {\"type\": \"bar\"}, \"encoding\": {\"x\": {\"field\": \"a\", \"type\": \"nominal\"}, \"y\": {\"field\": \"b\", \"type\": \"quantitative\"}}, \"$schema\": \"https://vega.github.io/schema/vega-lite/v5.17.0.json\", \"datasets\": {\"data-7684334a68ab74ba4c3ca7d0ceaeb461\": [{\"a\": \"A\", \"b\": 28}, {\"a\": \"B\", \"b\": 55}, {\"a\": \"C\", \"b\": 43}, {\"a\": \"D\", \"b\": 91}, {\"a\": \"E\", \"b\": 81}, {\"a\": \"F\", \"b\": 53}, {\"a\": \"G\", \"b\": 19}, {\"a\": \"H\", \"b\": 87}, {\"a\": \"I\", \"b\": 52}]}}, {\"mode\": \"vega-lite\"});\n",
       "</script>"
      ],
      "text/plain": [
       "alt.Chart(...)"
      ]
     },
     "execution_count": 1,
     "metadata": {},
     "output_type": "execute_result"
    }
   ],
   "source": [
    "import altair as alt\n",
    "import pandas as pd\n",
    "import os\n",
    "\n",
    "# Makes sure an output directory exists alongside this notebook\n",
    "os.makedirs(\"./output\", exist_ok=True)\n",
    "\n",
    "source = pd.DataFrame({\n",
    "    'a': ['A', 'B', 'C', 'D', 'E', 'F', 'G', 'H', 'I'],\n",
    "    'b': [28, 55, 43, 91, 81, 53, 19, 87, 52]\n",
    "})\n",
    "\n",
    "chart = alt.Chart(source).mark_bar().encode(\n",
    "    x='a',\n",
    "    y='b'\n",
    ")\n",
    "chart"
   ]
  },
  {
   "cell_type": "markdown",
   "metadata": {
    "id": "dOCVkb4NhHJ1"
   },
   "source": [
    "## Share interactive charts\n",
    "\n",
    "A powerful feature of Vega-Altair is that once a chart is produced from Python, the interactive behavior of the chart does not depend on a Python kernel.\n",
    "\n",
    "For example, you can design a Vega-Altair chart using Python, and then publish the same interactive chart on a website, even if that website does not have the ability to run Python code.  The reason this is possible is that Altair produces Vega-Lite/Vega specifications, and these rely on JavaScript, not Python.\n",
    "\n",
    "The two most common ways to share interactive charts are the following.\n",
    "* Share as html.\n",
    "* Share within the Vega editor."
   ]
  },
  {
   "cell_type": "markdown",
   "metadata": {
    "id": "biyvj9rygUXv"
   },
   "source": [
    "### Share as HTML\n",
    "\n",
    "The following creates an html file which can be opened in a web browser to view the (fully interactive) chart:"
   ]
  },
  {
   "cell_type": "code",
   "execution_count": 2,
   "metadata": {},
   "outputs": [],
   "source": [
    "chart.save(\"output/fig.html\")"
   ]
  },
  {
   "cell_type": "markdown",
   "metadata": {},
   "source": [
    "#### Online vs. Offline\n",
    "\n",
    "From the Vega-Altair documentation:\n",
    "\n",
    "> By default, an HTML file generated by `chart.save('fig.html')` loads the necessary JavaScript dependencies from an online CDN location. This results in a small HTML file, but it means that an active internet connection is required in order to display the chart.\n",
    ">\n",
    "> As an alternative, the `inline=True` keyword argument may be provided to chart.save to generate an HTML file that includes all necessary JavaScript dependencies inline. This results in a larger file size, but HTML files generated this way do not require an active internet connection to display."
   ]
  },
  {
   "cell_type": "code",
   "execution_count": 3,
   "metadata": {},
   "outputs": [],
   "source": [
    "chart.save(\"output/offline_fig.html\", inline=True)"
   ]
  },
  {
   "cell_type": "markdown",
   "metadata": {
    "id": "I2523iebgcUY"
   },
   "source": [
    "### Share in Vega editor\n",
    "An entire Vega-Altair chart can be converted into a URL that opens the chart in the online Vega editor. This is what happens when you select \"Open in Vega Editor\" from the dropdown menu of a chart. This sharable URL can also be generated programmatically using the `chart.to_url()` method.\n",
    "\n",
    "Clicking on the link output by the code below will open the chart in the Vega editor."
   ]
  },
  {
   "cell_type": "code",
   "execution_count": 4,
   "metadata": {},
   "outputs": [
    {
     "data": {
      "text/plain": [
       "'https://vega.github.io/editor/#/url/vega-lite/N4Igxg9gdgZglgcxALlANzgUwO4tJKAFzigFcJSBnAdTgBNCALFAZgAY2AacaYsiygAlMiRoVYcAvpO50AhoTl4QUOQFtMKEPMUBaAOwA2ABwAWFi1NyTcgEb7TtuabAswc-XTZhMczLdNDAEYQGRA1OQAnAGtlQgBPAAdNZBAnSNDuTChIOhIkVBAAD2V4TAAbOi0lbgTkrSgINRI5csyQeNKsSq1bEFqklJAAR1I5IjhFYjRNaW4AEkowRkwIrTFCRMpkAHodmYQ5ADoEScZSWyO4CB2llYj9zEPdcsnMfYBWI6D9I7YjgBWlGg-W0CjklEwhEoyh0cgMJnMlmsxjsDicLjcHi8Pj8AWCKAA2qAlKkAIKgvrIABMxhkJK0ACFKSgPh96SBSSAAMIs5DmDlcgAifIAnEFBVoAKJ84wSzgM1IAMT5HxYktSAHE+UFRRqQIJZfp9QBJVXUyQAXWkQA'"
      ]
     },
     "execution_count": 4,
     "metadata": {},
     "output_type": "execute_result"
    }
   ],
   "source": [
    "chart.to_url()"
   ]
  },
  {
   "cell_type": "markdown",
   "metadata": {},
   "source": [
    "> **Caution:** Sharing a URL link that opens the chart in the Vega editor can be a very convenient solution. However, it's important to be aware that the underlying data of the chart (e.g. the pandas DataFrame) is typically included within the produced Vega-Lite specification. This means that the URLs generated can be quite large, as they need to transmit not only the design options you chose for your chart but also all of the underlying data. Understanding this tradeoff can help you decide on the best approach for sharing your charts.\n",
    "\n",
    "When working in a local development environment, you can also use the `chart.open_editor()` method to open the chart directly in the Vega editor. open_editor relies on running locally and having the ability to open a web browser. This isn't possible from inside a hosted notebook environment."
   ]
  },
  {
   "cell_type": "code",
   "execution_count": 8,
   "metadata": {},
   "outputs": [],
   "source": [
    "chart.open_editor()"
   ]
  },
  {
   "cell_type": "markdown",
   "metadata": {
    "id": "sxREqXhBgupf"
   },
   "source": [
    "## Share static images\n",
    "\n",
    "It is straightforward to share static images of your charts using the `save` method.  Supported formats include png, svg, and pdf."
   ]
  },
  {
   "cell_type": "markdown",
   "metadata": {
    "id": "ZFeZjTtWhDDi"
   },
   "source": [
    "### PNG"
   ]
  },
  {
   "cell_type": "code",
   "execution_count": 9,
   "metadata": {},
   "outputs": [],
   "source": [
    "chart.save(\"output/fig.png\")"
   ]
  },
  {
   "cell_type": "markdown",
   "metadata": {
    "id": "wJBBFHXOhEwO"
   },
   "source": [
    "### SVG"
   ]
  },
  {
   "cell_type": "code",
   "execution_count": 10,
   "metadata": {},
   "outputs": [],
   "source": [
    "chart.save(\"output/fig.svg\")"
   ]
  },
  {
   "cell_type": "markdown",
   "metadata": {
    "id": "f-MFsdVVhGCz"
   },
   "source": [
    "### PDF"
   ]
  },
  {
   "cell_type": "code",
   "execution_count": 11,
   "metadata": {},
   "outputs": [],
   "source": [
    "chart.save(\"output/fig.pdf\")"
   ]
  },
  {
   "cell_type": "markdown",
   "metadata": {
    "id": "hk47hWAziUqg"
   },
   "source": [
    "## Embed in static documents\n",
    "\n",
    "Vega-Altair charts can be embedded in larger static documents using a variety of technologies. Here are a few examples:\n",
    "\n",
    "Quarto: https://quarto.org/docs/dashboards/data-display.html#altair\n",
    "\n",
    "Jupyter Book: https://jupyterbook.org/en/stable/interactive/interactive.html#altair\n",
    "\n",
    "LaTeX: Export to PDF and embed in LaTeX"
   ]
  },
  {
   "cell_type": "markdown",
   "metadata": {
    "id": "-Bgg8FCTiLFu"
   },
   "source": [
    "# Dashboards\n",
    "\n",
    "Vega-Altair is compatible with several popular Python dashboarding toolkits. Many of these toolkits support reading parameters from Vega-Altair charts (providing similar functionality to the `JupyterChart` class described above), allowing for interactive features like selecting data points to update other dashboard components.\n",
    "\n",
    "See the [dashboards section](https://altair-viz.github.io/user_guide/display_frontends.html#dashboards) of the Vega-Altair documentation for more information."
   ]
  }
 ],
 "metadata": {
  "colab": {
   "provenance": []
  },
  "kernelspec": {
   "display_name": "Python 3 (ipykernel)",
   "language": "python",
   "name": "python3"
  },
  "language_info": {
   "codemirror_mode": {
    "name": "ipython",
    "version": 3
   },
   "file_extension": ".py",
   "mimetype": "text/x-python",
   "name": "python",
   "nbconvert_exporter": "python",
   "pygments_lexer": "ipython3",
   "version": "3.11.2"
  }
 },
 "nbformat": 4,
 "nbformat_minor": 4
}
